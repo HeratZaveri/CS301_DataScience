{
 "cells": [
  {
   "cell_type": "code",
   "execution_count": null,
   "metadata": {},
   "outputs": [],
   "source": [
    "# Author: Herat Zaveri\n",
    "# Date: 2020/03/07\n",
    "# CS301-006, Professor Watson\n",
    "# HW#5 Solution\n",
    "# Solutions for problems 1-3 with relevant code\n",
    "#\n",
    "#\n",
    "# master"
   ]
  },
  {
   "cell_type": "code",
   "execution_count": 1,
   "metadata": {},
   "outputs": [],
   "source": [
    "import pandas as pd\n",
    "pd.set_option('display.max_columns', 999)\n",
    "import numpy as np\n",
    "\n",
    "##Visualization Libraries\n",
    "import matplotlib as mpl\n",
    "import matplotlib.pyplot as plt\n",
    "%matplotlib inline"
   ]
  },
  {
   "cell_type": "code",
   "execution_count": 2,
   "metadata": {},
   "outputs": [
    {
     "data": {
      "text/html": [
       "<div>\n",
       "<style scoped>\n",
       "    .dataframe tbody tr th:only-of-type {\n",
       "        vertical-align: middle;\n",
       "    }\n",
       "\n",
       "    .dataframe tbody tr th {\n",
       "        vertical-align: top;\n",
       "    }\n",
       "\n",
       "    .dataframe thead th {\n",
       "        text-align: right;\n",
       "    }\n",
       "</style>\n",
       "<table border=\"1\" class=\"dataframe\">\n",
       "  <thead>\n",
       "    <tr style=\"text-align: right;\">\n",
       "      <th></th>\n",
       "      <th>Unnamed: 0</th>\n",
       "      <th>Name</th>\n",
       "      <th>Midterm</th>\n",
       "      <th>Final</th>\n",
       "      <th>Attendance</th>\n",
       "      <th>HW</th>\n",
       "      <th>Final Average</th>\n",
       "      <th>Final Letter</th>\n",
       "      <th>Numeric Bin</th>\n",
       "      <th>Majors</th>\n",
       "    </tr>\n",
       "  </thead>\n",
       "  <tbody>\n",
       "    <tr>\n",
       "      <td>0</td>\n",
       "      <td>0</td>\n",
       "      <td>Ariel</td>\n",
       "      <td>89</td>\n",
       "      <td>92</td>\n",
       "      <td>9</td>\n",
       "      <td>9</td>\n",
       "      <td>86.0</td>\n",
       "      <td>B+</td>\n",
       "      <td>80.0</td>\n",
       "      <td>BNFO</td>\n",
       "    </tr>\n",
       "    <tr>\n",
       "      <td>1</td>\n",
       "      <td>1</td>\n",
       "      <td>Brody</td>\n",
       "      <td>92</td>\n",
       "      <td>93</td>\n",
       "      <td>10</td>\n",
       "      <td>9</td>\n",
       "      <td>89.0</td>\n",
       "      <td>A</td>\n",
       "      <td>80.0</td>\n",
       "      <td>BNFO</td>\n",
       "    </tr>\n",
       "    <tr>\n",
       "      <td>2</td>\n",
       "      <td>2</td>\n",
       "      <td>Debra</td>\n",
       "      <td>76</td>\n",
       "      <td>88</td>\n",
       "      <td>8</td>\n",
       "      <td>6</td>\n",
       "      <td>74.0</td>\n",
       "      <td>C+</td>\n",
       "      <td>70.0</td>\n",
       "      <td>MATH</td>\n",
       "    </tr>\n",
       "    <tr>\n",
       "      <td>3</td>\n",
       "      <td>3</td>\n",
       "      <td>Rex</td>\n",
       "      <td>90</td>\n",
       "      <td>83</td>\n",
       "      <td>10</td>\n",
       "      <td>10</td>\n",
       "      <td>88.0</td>\n",
       "      <td>B+</td>\n",
       "      <td>80.0</td>\n",
       "      <td>MATH</td>\n",
       "    </tr>\n",
       "    <tr>\n",
       "      <td>4</td>\n",
       "      <td>4</td>\n",
       "      <td>Jerry</td>\n",
       "      <td>67</td>\n",
       "      <td>85</td>\n",
       "      <td>7</td>\n",
       "      <td>5</td>\n",
       "      <td>66.0</td>\n",
       "      <td>D</td>\n",
       "      <td>60.0</td>\n",
       "      <td>BNFO</td>\n",
       "    </tr>\n",
       "  </tbody>\n",
       "</table>\n",
       "</div>"
      ],
      "text/plain": [
       "   Unnamed: 0   Name  Midterm  Final  Attendance  HW  Final Average  \\\n",
       "0           0  Ariel       89     92           9   9           86.0   \n",
       "1           1  Brody       92     93          10   9           89.0   \n",
       "2           2  Debra       76     88           8   6           74.0   \n",
       "3           3    Rex       90     83          10  10           88.0   \n",
       "4           4  Jerry       67     85           7   5           66.0   \n",
       "\n",
       "  Final Letter  Numeric Bin Majors  \n",
       "0           B+         80.0   BNFO  \n",
       "1            A         80.0   BNFO  \n",
       "2           C+         70.0   MATH  \n",
       "3           B+         80.0   MATH  \n",
       "4            D         60.0   BNFO  "
      ]
     },
     "execution_count": 2,
     "metadata": {},
     "output_type": "execute_result"
    }
   ],
   "source": [
    "data_dir = \"C:\\\\Users\\\\Herat\\\\OneDrive\\\\Documents\\\\CS301\"\n",
    "student_file = data_dir + \"\\\\student_class.csv\"\n",
    "df = pd.read_csv(student_file)\n",
    "df.head()"
   ]
  },
  {
   "cell_type": "code",
   "execution_count": null,
   "metadata": {},
   "outputs": [],
   "source": []
  },
  {
   "cell_type": "code",
   "execution_count": 3,
   "metadata": {},
   "outputs": [
    {
     "data": {
      "text/html": [
       "<div>\n",
       "<style scoped>\n",
       "    .dataframe tbody tr th:only-of-type {\n",
       "        vertical-align: middle;\n",
       "    }\n",
       "\n",
       "    .dataframe tbody tr th {\n",
       "        vertical-align: top;\n",
       "    }\n",
       "\n",
       "    .dataframe thead th {\n",
       "        text-align: right;\n",
       "    }\n",
       "</style>\n",
       "<table border=\"1\" class=\"dataframe\">\n",
       "  <thead>\n",
       "    <tr style=\"text-align: right;\">\n",
       "      <th></th>\n",
       "      <th>Majors</th>\n",
       "      <th>Midterm</th>\n",
       "    </tr>\n",
       "  </thead>\n",
       "  <tbody>\n",
       "    <tr>\n",
       "      <td>0</td>\n",
       "      <td>BNFO</td>\n",
       "      <td>87.5</td>\n",
       "    </tr>\n",
       "    <tr>\n",
       "      <td>1</td>\n",
       "      <td>CS</td>\n",
       "      <td>82.0</td>\n",
       "    </tr>\n",
       "    <tr>\n",
       "      <td>2</td>\n",
       "      <td>IS</td>\n",
       "      <td>73.0</td>\n",
       "    </tr>\n",
       "    <tr>\n",
       "      <td>3</td>\n",
       "      <td>IT</td>\n",
       "      <td>82.5</td>\n",
       "    </tr>\n",
       "    <tr>\n",
       "      <td>4</td>\n",
       "      <td>MATH</td>\n",
       "      <td>84.5</td>\n",
       "    </tr>\n",
       "  </tbody>\n",
       "</table>\n",
       "</div>"
      ],
      "text/plain": [
       "  Majors  Midterm\n",
       "0   BNFO     87.5\n",
       "1     CS     82.0\n",
       "2     IS     73.0\n",
       "3     IT     82.5\n",
       "4   MATH     84.5"
      ]
     },
     "execution_count": 3,
     "metadata": {},
     "output_type": "execute_result"
    }
   ],
   "source": [
    "midterm = df.groupby('Majors')['Midterm'].median().reset_index()\n",
    "midterm"
   ]
  },
  {
   "cell_type": "code",
   "execution_count": 4,
   "metadata": {},
   "outputs": [
    {
     "data": {
      "text/html": [
       "<div>\n",
       "<style scoped>\n",
       "    .dataframe tbody tr th:only-of-type {\n",
       "        vertical-align: middle;\n",
       "    }\n",
       "\n",
       "    .dataframe tbody tr th {\n",
       "        vertical-align: top;\n",
       "    }\n",
       "\n",
       "    .dataframe thead th {\n",
       "        text-align: right;\n",
       "    }\n",
       "</style>\n",
       "<table border=\"1\" class=\"dataframe\">\n",
       "  <thead>\n",
       "    <tr style=\"text-align: right;\">\n",
       "      <th></th>\n",
       "      <th>Majors</th>\n",
       "      <th>Final</th>\n",
       "    </tr>\n",
       "  </thead>\n",
       "  <tbody>\n",
       "    <tr>\n",
       "      <td>0</td>\n",
       "      <td>BNFO</td>\n",
       "      <td>90.5</td>\n",
       "    </tr>\n",
       "    <tr>\n",
       "      <td>1</td>\n",
       "      <td>CS</td>\n",
       "      <td>74.5</td>\n",
       "    </tr>\n",
       "    <tr>\n",
       "      <td>2</td>\n",
       "      <td>IS</td>\n",
       "      <td>81.0</td>\n",
       "    </tr>\n",
       "    <tr>\n",
       "      <td>3</td>\n",
       "      <td>IT</td>\n",
       "      <td>80.5</td>\n",
       "    </tr>\n",
       "    <tr>\n",
       "      <td>4</td>\n",
       "      <td>MATH</td>\n",
       "      <td>80.5</td>\n",
       "    </tr>\n",
       "  </tbody>\n",
       "</table>\n",
       "</div>"
      ],
      "text/plain": [
       "  Majors  Final\n",
       "0   BNFO   90.5\n",
       "1     CS   74.5\n",
       "2     IS   81.0\n",
       "3     IT   80.5\n",
       "4   MATH   80.5"
      ]
     },
     "execution_count": 4,
     "metadata": {},
     "output_type": "execute_result"
    }
   ],
   "source": [
    "final = df.groupby('Majors')['Final'].median().reset_index()\n",
    "final"
   ]
  },
  {
   "cell_type": "code",
   "execution_count": 5,
   "metadata": {},
   "outputs": [
    {
     "data": {
      "text/html": [
       "<div>\n",
       "<style scoped>\n",
       "    .dataframe tbody tr th:only-of-type {\n",
       "        vertical-align: middle;\n",
       "    }\n",
       "\n",
       "    .dataframe tbody tr th {\n",
       "        vertical-align: top;\n",
       "    }\n",
       "\n",
       "    .dataframe thead th {\n",
       "        text-align: right;\n",
       "    }\n",
       "</style>\n",
       "<table border=\"1\" class=\"dataframe\">\n",
       "  <thead>\n",
       "    <tr style=\"text-align: right;\">\n",
       "      <th></th>\n",
       "      <th>Majors</th>\n",
       "      <th>Final Average</th>\n",
       "    </tr>\n",
       "  </thead>\n",
       "  <tbody>\n",
       "    <tr>\n",
       "      <td>0</td>\n",
       "      <td>BNFO</td>\n",
       "      <td>75.05</td>\n",
       "    </tr>\n",
       "    <tr>\n",
       "      <td>1</td>\n",
       "      <td>CS</td>\n",
       "      <td>72.70</td>\n",
       "    </tr>\n",
       "    <tr>\n",
       "      <td>2</td>\n",
       "      <td>IS</td>\n",
       "      <td>71.80</td>\n",
       "    </tr>\n",
       "    <tr>\n",
       "      <td>3</td>\n",
       "      <td>IT</td>\n",
       "      <td>74.80</td>\n",
       "    </tr>\n",
       "    <tr>\n",
       "      <td>4</td>\n",
       "      <td>MATH</td>\n",
       "      <td>74.30</td>\n",
       "    </tr>\n",
       "  </tbody>\n",
       "</table>\n",
       "</div>"
      ],
      "text/plain": [
       "  Majors  Final Average\n",
       "0   BNFO          75.05\n",
       "1     CS          72.70\n",
       "2     IS          71.80\n",
       "3     IT          74.80\n",
       "4   MATH          74.30"
      ]
     },
     "execution_count": 5,
     "metadata": {},
     "output_type": "execute_result"
    }
   ],
   "source": [
    "finalAvg = df.groupby('Majors')['Final Average'].median().reset_index()\n",
    "finalAvg"
   ]
  },
  {
   "cell_type": "markdown",
   "metadata": {},
   "source": [
    "Problem 1"
   ]
  },
  {
   "cell_type": "code",
   "execution_count": 6,
   "metadata": {},
   "outputs": [
    {
     "data": {
      "image/png": "[encoded data removed]",
      "text/plain": [
       "<Figure size 1080x648 with 1 Axes>"
      ]
     },
     "metadata": {
      "needs_background": "light"
     },
     "output_type": "display_data"
    }
   ],
   "source": [
    "label_locations = np.arange(midterm.shape[0])\n",
    "majors =  ['BNFO', 'CS', 'IS', 'IT', 'MATH']\n",
    "\n",
    "w = 0.25\n",
    "plt.bar(label_locations - w/2, midterm['Midterm'], width=w, label='Midterm', color='red')\n",
    "plt.bar(label_locations + w/2, final['Final'], width=w, label='Final', color='green')\n",
    "plt.bar(label_locations + w*1.5, finalAvg['Final Average'], width=w, label='Final Average', color='blue')\n",
    "plt.gcf().set_size_inches(15, 9)\n",
    "plt.title('Median Midterm, Final and Final Average Scores')\n",
    "plt.xlabel('Major')\n",
    "plt.ylabel('Median Score')\n",
    "plt.xticks(label_locations, labels=majors)\n",
    "plt.legend()\n",
    "plt.show()"
   ]
  },
  {
   "cell_type": "markdown",
   "metadata": {},
   "source": [
    "Data Items: Median Final Grade, Midterm Grade and Final Average grouped by major\n",
    "\n",
    "Attributes:\n",
    "Categorical - Colors : Red, Green, Blue\n",
    "Numerical - Median Score: (0,100)\n",
    "Ordinal - Major\n",
    "\n",
    "Marks and Channels:\n",
    "Midterm Median Score - Vertical Bar and Color is red\n",
    "Final Median Score - Vertical Bar and Color is green\n",
    "Final Average Median Score - Vertical Bar and Color is blue\n",
    "\n",
    "Overall Performance of Each Major:\n",
    "BNFO - The Midterm and Final Averages seem to be higher for this major, and their exam average is similar to others\n",
    "\n",
    "CS- Seems to have higher midterm averages and lower Final Exam and Final Avergaes these maybe due to difficulty of final exams and there for lower median score as a average\n",
    "\n",
    "IS - The median score is high for the Final Exam however it is lower for Midterm Exam, so there is a lower median score for the final Average, however they seem to be performing on par with other majors\n",
    "\n",
    "IT- Performance for the Midterm Exam and Final Exam are reallt high however the Final Exam is slighty lower this may be the cause for a low final average within the major\n",
    "\n",
    "Math- It is probably the second highest performing major with a high Midterm median score and a slighty lower final exam score and the average is similar to that of IT major\n",
    "\n",
    "The best Performing Major is IT as the data clearly shows a high Midterm and Final Exam Score and this correlates with a high final Average Score, compared to BNFO which has high Exam Scores but a lower final Average\n"
   ]
  },
  {
   "cell_type": "code",
   "execution_count": null,
   "metadata": {},
   "outputs": [],
   "source": []
  },
  {
   "cell_type": "markdown",
   "metadata": {},
   "source": [
    "Problem 2 "
   ]
  },
  {
   "cell_type": "code",
   "execution_count": 7,
   "metadata": {},
   "outputs": [
    {
     "data": {
      "image/png": "[encoded data removed]",
      "text/plain": [
       "<Figure size 864x576 with 1 Axes>"
      ]
     },
     "metadata": {
      "needs_background": "light"
     },
     "output_type": "display_data"
    }
   ],
   "source": [
    "lst_avgs = df['Final Average']\n",
    "number = df['Numeric Bin']\n",
    "sort_bins = sorted(number.unique())\n",
    "sort_bins.append(100)\n",
    "plt.hist(lst_avgs,bins=sort_bins)\n",
    "plt.gcf().set_size_inches(12,8)\n",
    "plt.title('Number of Students in Each Grade Bin')\n",
    "plt.xlabel('Grade')\n",
    "plt.ylabel('Frequency')\n",
    "plt.show()"
   ]
  },
  {
   "cell_type": "markdown",
   "metadata": {},
   "source": [
    "Visualiztion Critique:\n",
    "Data Items: Final Grade Average, Numeric Bin of Average's\n",
    "\n",
    "Attributes:\n",
    "Categorical - Color: Blue\n",
    "Fall within grade Bins\n",
    "\n",
    "Numerical - Final Grades: (40,100)\n",
    "Frequency from (0, 50)\n",
    "\n",
    "Ordinal - Numeric Bins \n",
    "\n",
    "Marks and Channels:\n",
    "Vertical Blue Bar - Frequency of students that fall in specific bin\n",
    "\n",
    "Critique:\n",
    "\n",
    "I think the histogram is good for seeing the frequency of students in each grade bin, however it does not accurately show how many students at each different grade point. It is useful in determining maybe a curve for the class and cutoff for a letter grade. The data has a approximately normal distribution"
   ]
  },
  {
   "cell_type": "code",
   "execution_count": null,
   "metadata": {},
   "outputs": [],
   "source": []
  },
  {
   "cell_type": "markdown",
   "metadata": {},
   "source": [
    "Problem 3"
   ]
  },
  {
   "cell_type": "code",
   "execution_count": 8,
   "metadata": {},
   "outputs": [
    {
     "data": {
      "image/png": "[encoded data removed]",
      "text/plain": [
       "<Figure size 1152x504 with 1 Axes>"
      ]
     },
     "metadata": {
      "needs_background": "light"
     },
     "output_type": "display_data"
    }
   ],
   "source": [
    "final_df = df['Final']\n",
    "midterm_df = df['Midterm']\n",
    "stdFinalAvg = df['Final Average']\n",
    "plt.scatter(midterm_df,stdFinalAvg, color='red', label = 'Midterm Exam')\n",
    "plt.scatter(final_df,stdFinalAvg, color='blue', label = 'Final Exam')\n",
    "plt.gcf().set_size_inches(16,7)\n",
    "plt.title('Exams vs Final Average')\n",
    "plt.xlabel('Exams')\n",
    "plt.ylabel('Final Average')\n",
    "plt.legend()\n",
    "plt.show()"
   ]
  },
  {
   "cell_type": "markdown",
   "metadata": {},
   "source": [
    "Data Items: Final Grade Average, Midterm Exam Grades, Final Exam Grades\n",
    "\n",
    "Attributes:\n",
    "Categorical - \n",
    "Majors \n",
    "\n",
    "Numerical - \n",
    "Final Exam and Midterm Scores (0,100)\n",
    "Final Average (0,100) \n",
    "\n",
    "Marks and Channels:\n",
    "Marks - Points- Midterm and Final Exam\n",
    "Channel- Points - color blue for final and red for midterm exam\n",
    "(x,y) Position is at Final Average Score for y and Midterm or Final Exam score for x\n",
    "\n",
    "Visualization Critique:\n",
    "\n",
    "The exam Scores are indicative of the corresponding Final Average. The visualization clearly shows that those with higher exam scores recieved an higher final average compared to those that performed below it. Although there might be some outliers in this case where they performed poorly on one exam and beteer on another one which would lead to a higher or lower final average."
   ]
  },
  {
   "cell_type": "code",
   "execution_count": null,
   "metadata": {},
   "outputs": [],
   "source": []
  }
 ],
 "metadata": {
  "kernelspec": {
   "display_name": "Python 3",
   "language": "python",
   "name": "python3"
  },
  "language_info": {
   "codemirror_mode": {
    "name": "ipython",
    "version": 3
   },
   "file_extension": ".py",
   "mimetype": "text/x-python",
   "name": "python",
   "nbconvert_exporter": "python",
   "pygments_lexer": "ipython3",
   "version": "3.7.4"
  }
 },
 "nbformat": 4,
 "nbformat_minor": 2
}
